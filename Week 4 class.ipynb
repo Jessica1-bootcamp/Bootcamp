{
 "cells": [
  {
   "cell_type": "code",
   "execution_count": 21,
   "metadata": {},
   "outputs": [
    {
     "name": "stdout",
     "output_type": "stream",
     "text": [
      "Valid age\n"
     ]
    }
   ],
   "source": [
    "num=int(input(\"Please type in a number:\"))\n",
    "if type(num)==int:\n",
    "    if 0<num<120:\n",
    "        print(\"Valid age\")\n",
    "    else:\n",
    "        print(\"Age out of range\")\n",
    "else:\n",
    "    print(\"Invalid input. Please enter a valid number.\")\n",
    "    "
   ]
  },
  {
   "cell_type": "code",
   "execution_count": 28,
   "metadata": {},
   "outputs": [
    {
     "name": "stdout",
     "output_type": "stream",
     "text": [
      "Invalid input. Please enter a valid number.\n"
     ]
    }
   ],
   "source": [
    "try:\n",
    "    num=int(input(\"Please type in a number:\"))      #define the variable and convert to integer\n",
    "    if type(num)==int:          #check the type is integer\n",
    "        if 0<=num<=120:       #if the number is within 0 and 120\n",
    "            print(\"Valid age\")     \n",
    "        else:           #if it's outside of the range\n",
    "            print(\"Age out of range\")\n",
    "except:\n",
    "    print(\"Invalid input. Please enter a valid number.\")\n"
   ]
  }
 ],
 "metadata": {
  "kernelspec": {
   "display_name": "bootcamp",
   "language": "python",
   "name": "python3"
  },
  "language_info": {
   "codemirror_mode": {
    "name": "ipython",
    "version": 3
   },
   "file_extension": ".py",
   "mimetype": "text/x-python",
   "name": "python",
   "nbconvert_exporter": "python",
   "pygments_lexer": "ipython3",
   "version": "3.12.9"
  }
 },
 "nbformat": 4,
 "nbformat_minor": 2
}
