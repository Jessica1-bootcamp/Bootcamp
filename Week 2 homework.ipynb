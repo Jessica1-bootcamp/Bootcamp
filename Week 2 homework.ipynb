{
 "cells": [
  {
   "cell_type": "markdown",
   "metadata": {},
   "source": [
    "User Input & Type Converting"
   ]
  },
  {
   "cell_type": "code",
   "execution_count": 3,
   "metadata": {},
   "outputs": [
    {
     "name": "stdout",
     "output_type": "stream",
     "text": [
      "Jess\n"
     ]
    }
   ],
   "source": [
    "#accepting and outputting user input\n",
    "print(input('What is your name?'))"
   ]
  },
  {
   "cell_type": "code",
   "execution_count": 7,
   "metadata": {},
   "outputs": [
    {
     "name": "stdout",
     "output_type": "stream",
     "text": [
      "Hello Jess!\n"
     ]
    }
   ],
   "source": [
    "# saving what the user inputs\n",
    "ans=input(\"What is your name?\")\n",
    "print(\"Hello {}!\".format(ans))"
   ]
  },
  {
   "cell_type": "code",
   "execution_count": 8,
   "metadata": {},
   "outputs": [
    {
     "name": "stdout",
     "output_type": "stream",
     "text": [
      "<class 'int'>\n"
     ]
    }
   ],
   "source": [
    "# How to check the data type of a variable\n",
    "num=5\n",
    "print(type(num))"
   ]
  },
  {
   "cell_type": "code",
   "execution_count": 9,
   "metadata": {},
   "outputs": [
    {
     "name": "stdout",
     "output_type": "stream",
     "text": [
      "<class 'int'>\n"
     ]
    }
   ],
   "source": [
    "#converting a variable from one data type to another\n",
    "num=\"9\"\n",
    "num=int(num)    #re-declaring num to store an integer\n",
    "print(type(num))    #checking type to make sure conversion worked"
   ]
  },
  {
   "cell_type": "code",
   "execution_count": 10,
   "metadata": {},
   "outputs": [
    {
     "name": "stdout",
     "output_type": "stream",
     "text": [
      "<class 'str'>\n",
      "100+88=188\n"
     ]
    }
   ],
   "source": [
    "#working with user input to perform calculations\n",
    "ans=input(\"Type a number to add: \")\n",
    "print(type(ans))    #default type is string, must convert\n",
    "result = 100+int(ans)\n",
    "print('100+{}={}'.format(ans, result))"
   ]
  },
  {
   "cell_type": "code",
   "execution_count": 13,
   "metadata": {},
   "outputs": [
    {
     "name": "stdout",
     "output_type": "stream",
     "text": [
      "100+88.0=188.0\n",
      "The program did not break!\n"
     ]
    }
   ],
   "source": [
    "# using the try and except blocks, use tab to indent where necessary\n",
    "try:\n",
    "    ans=float(input(\"Type a number to add: \"))\n",
    "    print(\"100+{}={}\".format(ans,100+ans))\n",
    "except:\n",
    "    print(\"You did not put in a valid number!\")\n",
    "# without try/except print statement would not get hit if error occurs\n",
    "print(\"The program did not break!\")"
   ]
  },
  {
   "cell_type": "code",
   "execution_count": 1,
   "metadata": {},
   "outputs": [
    {
     "name": "stdout",
     "output_type": "stream",
     "text": [
      "<class 'bool'>\n"
     ]
    }
   ],
   "source": [
    "string=\"True\"\n",
    "boolean=bool(string)\n",
    "print(type(boolean))"
   ]
  },
  {
   "cell_type": "code",
   "execution_count": 2,
   "metadata": {},
   "outputs": [
    {
     "name": "stdout",
     "output_type": "stream",
     "text": [
      "176\n"
     ]
    }
   ],
   "source": [
    "num1=input(\"Type the first number to add: \")\n",
    "num2=input(\"Type the second number to add:\")\n",
    "result=int(num1)+int(num2)\n",
    "print(result)"
   ]
  },
  {
   "cell_type": "code",
   "execution_count": 3,
   "metadata": {},
   "outputs": [
    {
     "name": "stdout",
     "output_type": "stream",
     "text": [
      "2002 Bronze Benz Blah\n"
     ]
    }
   ],
   "source": [
    "year=input(\"Type the year:\")\n",
    "make=input('Type the make:')\n",
    "model=input(\"Type the model:\")\n",
    "colour=input(\"Type the colour:\")\n",
    "print(\"{} {} {} {}\".format(year, colour, make, model))"
   ]
  },
  {
   "cell_type": "markdown",
   "metadata": {},
   "source": [
    "If Statements"
   ]
  },
  {
   "cell_type": "code",
   "execution_count": 7,
   "metadata": {},
   "outputs": [],
   "source": [
    "# using an if statement to only run code if the condition is met\n",
    "x,y=15,10\n",
    "if x<y:\n",
    "    print(\"x is less than y\")\n"
   ]
  },
  {
   "cell_type": "code",
   "execution_count": 9,
   "metadata": {},
   "outputs": [
    {
     "name": "stdout",
     "output_type": "stream",
     "text": [
      "You got it right!\n"
     ]
    }
   ],
   "source": [
    "# checking user input\n",
    "ans=int(input(\"What is 5+5?\"))\n",
    "if ans==10:\n",
    "        print('You got it right!')"
   ]
  },
  {
   "cell_type": "code",
   "execution_count": 10,
   "metadata": {},
   "outputs": [
    {
     "name": "stdout",
     "output_type": "stream",
     "text": [
      "Both statements were true\n"
     ]
    }
   ],
   "source": [
    "# using the keyword 'and' in an 'if statement'\n",
    "x,y,z=5,10,5\n",
    "if x<y and x==z:\n",
    "    print(\"Both statements were true\")"
   ]
  },
  {
   "cell_type": "code",
   "execution_count": 11,
   "metadata": {},
   "outputs": [
    {
     "name": "stdout",
     "output_type": "stream",
     "text": [
      "One or both statements were true\n"
     ]
    }
   ],
   "source": [
    "# using the keyword 'or' in an 'if statement'\n",
    "x,y,z=5,10,5\n",
    "if x<y or x!=z:\n",
    "    print(\"One or both statements were true\")"
   ]
  },
  {
   "cell_type": "code",
   "execution_count": null,
   "metadata": {},
   "outputs": [
    {
     "name": "stdout",
     "output_type": "stream",
     "text": [
      "Flag is false\n"
     ]
    }
   ],
   "source": [
    "# using the keyword 'not' within an 'if statement'\n",
    "flag=False\n",
    "if not flag:    #same as saying if true\n",
    "    print(\"Flag is false\")"
   ]
  },
  {
   "cell_type": "code",
   "execution_count": 13,
   "metadata": {},
   "outputs": [
    {
     "name": "stdout",
     "output_type": "stream",
     "text": [
      "Baseball contains the character b\n"
     ]
    }
   ],
   "source": [
    "# using the keyword 'in' within an 'if statement'\n",
    "word=\"Baseball\"\n",
    "if \"b\" in word:\n",
    "    print(\"{} contains the character b\".format(word))"
   ]
  },
  {
   "cell_type": "code",
   "execution_count": 16,
   "metadata": {},
   "outputs": [
    {
     "name": "stdout",
     "output_type": "stream",
     "text": [
      "dress contains the characters es.\n"
     ]
    }
   ],
   "source": [
    "ans=input(\"Give me a word:\")\n",
    "if \"es\" in ans:\n",
    "    print(\"{} contains the characters es.\".format(ans))\n"
   ]
  },
  {
   "cell_type": "code",
   "execution_count": 19,
   "metadata": {},
   "outputs": [
    {
     "name": "stdout",
     "output_type": "stream",
     "text": [
      "The word does not end with 'ing'.\n"
     ]
    }
   ],
   "source": [
    "# Ask the user for input\n",
    "word = input(\"Enter a word: \")\n",
    "\n",
    "# Check if the word ends with 'ing' using slicing\n",
    "if word[-3:] == \"ing\":\n",
    "    print(\"The word ends with 'ing'.\")\n",
    "else:\n",
    "    print(\"The word does not end with 'ing'.\")"
   ]
  },
  {
   "cell_type": "code",
   "execution_count": 20,
   "metadata": {},
   "outputs": [
    {
     "name": "stdout",
     "output_type": "stream",
     "text": [
      "x is less\n"
     ]
    }
   ],
   "source": [
    "# using the elif conditional statement\n",
    "x,y=5,10\n",
    "if x>y:\n",
    "    print(\"x is greater\")\n",
    "elif x<y:\n",
    "    print(\"x is less\")"
   ]
  },
  {
   "cell_type": "code",
   "execution_count": 21,
   "metadata": {},
   "outputs": [
    {
     "name": "stdout",
     "output_type": "stream",
     "text": [
      "equal\n"
     ]
    }
   ],
   "source": [
    "# checking more than one elif conditional statement\n",
    "x,y=5,10\n",
    "if x>y:\n",
    "    print(\"x is greater\")\n",
    "elif (x+10)<y:\n",
    "    print(\"x is less\")\n",
    "elif(x+5)==y:\n",
    "    print(\"equal\")"
   ]
  },
  {
   "cell_type": "code",
   "execution_count": null,
   "metadata": {},
   "outputs": [
    {
     "name": "stdout",
     "output_type": "stream",
     "text": [
      "x is equal to z\n"
     ]
    }
   ],
   "source": [
    "# writing multiple conditionals within each other - multiple block levels\n",
    "x,y,z=5,10,5\n",
    "if x>y:\n",
    "    print(\"greater\")\n",
    "elif x<=y:\n",
    "    if x==z:\n",
    "        print(\"x is equal to z\")    #resulting output\n",
    "    elif x!=z:\n",
    "        print(\"x is not equal to z\")    #won't get hit"
   ]
  },
  {
   "cell_type": "code",
   "execution_count": 23,
   "metadata": {},
   "outputs": [
    {
     "name": "stdout",
     "output_type": "stream",
     "text": [
      "x is less\n",
      "x is equal\n"
     ]
    }
   ],
   "source": [
    "# testing output of two if statements in a row that are both true\n",
    "x,y,z=5,10,5\n",
    "if x<y:\n",
    "    print(\"x is less\")\n",
    "if x==z:\n",
    "    print (\"x is equal\")"
   ]
  },
  {
   "cell_type": "code",
   "execution_count": 24,
   "metadata": {},
   "outputs": [
    {
     "name": "stdout",
     "output_type": "stream",
     "text": [
      "x is less\n"
     ]
    }
   ],
   "source": [
    "# testing output of an if and elif statement that are both true\n",
    "x,y,z=5,10,5\n",
    "if x<y:\n",
    "    print(\"x is less\")\n",
    "elif x==z:\n",
    "    print(\"x is equal to z\")"
   ]
  },
  {
   "cell_type": "code",
   "execution_count": 27,
   "metadata": {},
   "outputs": [
    {
     "name": "stdout",
     "output_type": "stream",
     "text": [
      "The number is lower than 100\n"
     ]
    }
   ],
   "source": [
    "#wednesday exercise\n",
    "number=input(\"Type a number:\")\n",
    "ans=int(number)\n",
    "if ans>100:\n",
    "    print(\"The number is higher than 100\")\n",
    "elif ans<100:\n",
    "    print(\"The number is lower than 100\")"
   ]
  },
  {
   "cell_type": "code",
   "execution_count": 28,
   "metadata": {},
   "outputs": [
    {
     "name": "stdout",
     "output_type": "stream",
     "text": [
      "lower\n"
     ]
    }
   ],
   "source": [
    "#wed exercise 2\n",
    "x,y=5,10\n",
    "if x>y:\n",
    "    print(\"greater\")\n",
    "elif x<y:\n",
    "    print(\"lower\")\n"
   ]
  },
  {
   "cell_type": "markdown",
   "metadata": {},
   "source": [
    "else statements"
   ]
  },
  {
   "cell_type": "code",
   "execution_count": 30,
   "metadata": {},
   "outputs": [
    {
     "name": "stdout",
     "output_type": "stream",
     "text": [
      "Hello John!\n"
     ]
    }
   ],
   "source": [
    "# using an else statement\n",
    "name=\"John\"\n",
    "if name==\"Jacob\":\n",
    "    print(\"Hello Jacob!\")\n",
    "else:\n",
    "    print(\"Hello {}!\".format(name))"
   ]
  },
  {
   "cell_type": "code",
   "execution_count": 31,
   "metadata": {},
   "outputs": [
    {
     "name": "stdout",
     "output_type": "stream",
     "text": [
      "Name starts with a J\n"
     ]
    }
   ],
   "source": [
    "# writing a full conditional statement with if, elif, else\n",
    "name=\"John\"\n",
    "if name[0]==\"A\":\n",
    "    print(\"Name starts with an A\")\n",
    "elif name[0]==\"B\":\n",
    "    print(\"Name starts with a B\")\n",
    "elif name[0]==\"J\":\n",
    "    print(\"Name starts with a J\")\n",
    "else:   #covers all other possibilituies\n",
    "    print(\"Name starts with a {}\".format(name[0]))"
   ]
  },
  {
   "cell_type": "code",
   "execution_count": 32,
   "metadata": {},
   "outputs": [
    {
     "name": "stdout",
     "output_type": "stream",
     "text": [
      "Hello John\n"
     ]
    }
   ],
   "source": [
    "#Thursday exercises\n",
    "if name==\"Jack\":\n",
    "    print(\"Hello jack\")\n",
    "else:\n",
    "    print(\"Hello John\")"
   ]
  },
  {
   "cell_type": "code",
   "execution_count": 33,
   "metadata": {},
   "outputs": [
    {
     "name": "stdout",
     "output_type": "stream",
     "text": [
      "Good afternoon\n"
     ]
    }
   ],
   "source": [
    "time=input(\"Give me a time of the day in military time without a colon:\")\n",
    "ans=int(time)\n",
    "if ans<1200:\n",
    "    print(\"Good morning\")\n",
    "elif 1200<ans<1700:\n",
    "    print(\"Good afternoon\")\n",
    "else:\n",
    "    print(\"Good evening\")"
   ]
  },
  {
   "cell_type": "markdown",
   "metadata": {},
   "source": [
    "Friday Project: Creating a Calculator\n"
   ]
  },
  {
   "cell_type": "code",
   "execution_count": 38,
   "metadata": {},
   "outputs": [
    {
     "name": "stdout",
     "output_type": "stream",
     "text": [
      "You choose multiply.\n"
     ]
    }
   ],
   "source": [
    "# step 1: ask user for calculation to be performed\n",
    "operation=input(\"Would you like to add/subtract/multiple/divide?\").lower()\n",
    "print(\"You choose {}.\".format(operation))   #for testing purposes"
   ]
  },
  {
   "cell_type": "code",
   "execution_count": 36,
   "metadata": {},
   "outputs": [
    {
     "name": "stdout",
     "output_type": "stream",
     "text": [
      "First number:88\n",
      "Second number:66\n"
     ]
    }
   ],
   "source": [
    "# step 2: ask for numbers, alert order matters for subtracting and dividing\n",
    "if operation==\"subtract\" or operation == \"divide\":\n",
    "    print (\"You choose {}.\".format(operation))\n",
    "    print(\"Please keep in mind that the order of your numbers matter.\")\n",
    "num1=input(\"What is the first number?\")\n",
    "num2=input(\"What is the second number?\")\n",
    "print(\"First number:{}\".format(num1))   #for testing purposes\n",
    "print(\"Second number:{}\".format(num2))"
   ]
  },
  {
   "cell_type": "code",
   "execution_count": 39,
   "metadata": {},
   "outputs": [
    {
     "name": "stdout",
     "output_type": "stream",
     "text": [
      "88.0*66.0=5808.0\n"
     ]
    }
   ],
   "source": [
    "# step 3: setup try/except for mathematical operation\n",
    "try:\n",
    "    #step 3a: immediately try to convert numbers inputs to floats\n",
    "    num1, num2=float(num1), float(num2)\n",
    "    # step 3b: perform operation and print result\n",
    "    if operation==\"add\":\n",
    "        result=num1+num2\n",
    "        print(\"{}+{}={}\".format(num1,num2,result))\n",
    "    elif operation==\"subtract\":\n",
    "        result=num1-num2\n",
    "        print(\"{}-{}={}\".format(num1,num2,result))\n",
    "    elif operation==\"multiply\":\n",
    "        result=num1*num2\n",
    "        print(\"{}*{}={}\".format(num1,num2,result))\n",
    "    elif operation==\"divide\":\n",
    "        result=num1/num2\n",
    "        print(\"{}/{}={}\".format(num1,num2,result))\n",
    "    else:\n",
    "        #else will be hit if they didn't choose an option correctly\n",
    "        print(\"Sorry but '{}' is not an option.\".format(operation))\n",
    "except:\n",
    "    #step 3c: printing error\n",
    "    print(\"Error:Improper numbers used. Please try again\")\n",
    "    "
   ]
  },
  {
   "cell_type": "code",
   "execution_count": 40,
   "metadata": {},
   "outputs": [
    {
     "name": "stdout",
     "output_type": "stream",
     "text": [
      "You choose add.\n",
      "First number:56\n",
      "Second number:28\n",
      "56.0+28.0=84.0\n"
     ]
    }
   ],
   "source": [
    "# step 1: ask user for calculation to be performed\n",
    "operation=input(\"Would you like to add/subtract/multiple/divide?\").lower()\n",
    "print(\"You choose {}.\".format(operation))   #for testing purposes\n",
    "# step 2: ask for numbers, alert order matters for subtracting and dividing\n",
    "if operation==\"subtract\" or operation == \"divide\":\n",
    "    print (\"You choose {}.\".format(operation))\n",
    "    print(\"Please keep in mind that the order of your numbers matter.\")\n",
    "num1=input(\"What is the first number?\")\n",
    "num2=input(\"What is the second number?\")\n",
    "print(\"First number:{}\".format(num1))   #for testing purposes\n",
    "print(\"Second number:{}\".format(num2))\n",
    "# step 3: setup try/except for mathematical operation\n",
    "try:\n",
    "    #step 3a: immediately try to convert numbers inputs to floats\n",
    "    num1, num2=float(num1), float(num2)\n",
    "    # step 3b: perform operation and print result\n",
    "    if operation==\"add\":\n",
    "        result=num1+num2\n",
    "        print(\"{}+{}={}\".format(num1,num2,result))\n",
    "    elif operation==\"subtract\":\n",
    "        result=num1-num2\n",
    "        print(\"{}-{}={}\".format(num1,num2,result))\n",
    "    elif operation==\"multiply\":\n",
    "        result=num1*num2\n",
    "        print(\"{}*{}={}\".format(num1,num2,result))\n",
    "    elif operation==\"divide\":\n",
    "        result=num1/num2\n",
    "        print(\"{}/{}={}\".format(num1,num2,result))\n",
    "    else:\n",
    "        #else will be hit if they didn't choose an option correctly\n",
    "        print(\"Sorry but '{}' is not an option.\".format(operation))\n",
    "except:\n",
    "    #step 3c: printing error\n",
    "    print(\"Error:Improper numbers used. Please try again\")\n",
    "    "
   ]
  },
  {
   "cell_type": "code",
   "execution_count": null,
   "metadata": {},
   "outputs": [],
   "source": []
  }
 ],
 "metadata": {
  "kernelspec": {
   "display_name": "bootcamp",
   "language": "python",
   "name": "python3"
  },
  "language_info": {
   "codemirror_mode": {
    "name": "ipython",
    "version": 3
   },
   "file_extension": ".py",
   "mimetype": "text/x-python",
   "name": "python",
   "nbconvert_exporter": "python",
   "pygments_lexer": "ipython3",
   "version": "3.12.9"
  }
 },
 "nbformat": 4,
 "nbformat_minor": 2
}
