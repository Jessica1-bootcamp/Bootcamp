{
 "cells": [
  {
   "cell_type": "markdown",
   "metadata": {},
   "source": [
    "Lists"
   ]
  },
  {
   "cell_type": "code",
   "execution_count": 2,
   "metadata": {},
   "outputs": [
    {
     "name": "stdout",
     "output_type": "stream",
     "text": [
      "[5, 10, 15.2, 20]\n"
     ]
    }
   ],
   "source": [
    "#declaring a list of numbers\n",
    "nums = [5,10,15.2,20]\n",
    "print(nums)\n"
   ]
  },
  {
   "cell_type": "code",
   "execution_count": 3,
   "metadata": {},
   "outputs": [
    {
     "name": "stdout",
     "output_type": "stream",
     "text": [
      "10\n",
      "15.2\n"
     ]
    }
   ],
   "source": [
    "#accessing elements within a list\n",
    "print(nums[1])  #will output the value at index1=10\n",
    "num=nums[2] #saves index value 2 into num\n",
    "print(num)  "
   ]
  },
  {
   "cell_type": "code",
   "execution_count": 4,
   "metadata": {},
   "outputs": [
    {
     "name": "stdout",
     "output_type": "stream",
     "text": [
      "[4.3, 'word', True]\n"
     ]
    }
   ],
   "source": [
    "#declaring a list of mixed data types\n",
    "num=4.3\n",
    "data=[num, \"word\", True]    #the power of data collection\n",
    "print(data)"
   ]
  },
  {
   "cell_type": "code",
   "execution_count": 5,
   "metadata": {},
   "outputs": [
    {
     "name": "stdout",
     "output_type": "stream",
     "text": [
      "[5, 'book', [34, 'hello'], True]\n",
      "[34, 'hello']\n"
     ]
    }
   ],
   "source": [
    "#understanding lists within lists\n",
    "data = [5, \"book\", [34, \"hello\"], True] #lists can hold any type\n",
    "print(data)\n",
    "print(data[2])"
   ]
  },
  {
   "cell_type": "code",
   "execution_count": 6,
   "metadata": {},
   "outputs": [
    {
     "name": "stdout",
     "output_type": "stream",
     "text": [
      "34\n",
      "hello\n"
     ]
    }
   ],
   "source": [
    "#using double bracket notation to access lists within lists\n",
    "print(data[2][0])   #will output 34\n",
    "inner_list=data[2]  #inner list will equal [34, 'hello]\n",
    "print(inner_list[1])    #will output 'hello'"
   ]
  },
  {
   "cell_type": "code",
   "execution_count": 7,
   "metadata": {},
   "outputs": [
    {
     "name": "stdout",
     "output_type": "stream",
     "text": [
      "b\n"
     ]
    }
   ],
   "source": [
    "print(data[1][0])   #will output 'b'"
   ]
  },
  {
   "cell_type": "code",
   "execution_count": 8,
   "metadata": {},
   "outputs": [
    {
     "name": "stdout",
     "output_type": "stream",
     "text": [
      "[5, 10, 15, 20]\n",
      "[100, 10, 15, 20]\n"
     ]
    }
   ],
   "source": [
    "#changing values in a list through index\n",
    "data = [5,10,15,20]\n",
    "print(data)\n",
    "data[0]=100     #changing the value at index 0 - (5 to 100)\n",
    "print(data)"
   ]
  },
  {
   "cell_type": "code",
   "execution_count": 9,
   "metadata": {},
   "outputs": [
    {
     "name": "stdout",
     "output_type": "stream",
     "text": [
      "2647561765184\n"
     ]
    }
   ],
   "source": [
    "a=[5,10]\n",
    "print(id(a))        #large number represents location in memory\n"
   ]
  },
  {
   "cell_type": "code",
   "execution_count": 10,
   "metadata": {},
   "outputs": [
    {
     "name": "stdout",
     "output_type": "stream",
     "text": [
      "a:[5, 10]\t b:[5, 10]\n",
      "Location a[0]:140729424095800\t location b[0]:140729424095800\n",
      "a:[20, 10]\t b:[20, 10]\n"
     ]
    }
   ],
   "source": [
    "a=[5,10]\n",
    "b=a\n",
    "print(\"a:{}\\t b:{}\".format(a,b))\n",
    "print(\"Location a[0]:{}\\t location b[0]:{}\".format(id(a[0]),id(b[0])))\n",
    "a[0]=20 #re-declaring the value of a[0] also changes b[0]\n",
    "print(\"a:{}\\t b:{}\".format(a,b))"
   ]
  },
  {
   "cell_type": "code",
   "execution_count": 12,
   "metadata": {},
   "outputs": [
    {
     "name": "stdout",
     "output_type": "stream",
     "text": [
      "data: [50, 10, 15, 20]\t data_copy:[5, 10, 15, 20]\n"
     ]
    }
   ],
   "source": [
    "#using [:] to copy a list\n",
    "data = [5,10,15,20]\n",
    "data_copy=data[:]   #a single colon copies the list\n",
    "data[0]=50\n",
    "print(\"data: {}\\t data_copy:{}\".format(data, data_copy))"
   ]
  },
  {
   "cell_type": "code",
   "execution_count": null,
   "metadata": {},
   "outputs": [
    {
     "name": "stdout",
     "output_type": "stream",
     "text": [
      "I like to play badminton. \n",
      "I like to play soccer. \n",
      "I like to play table tennis\n"
     ]
    }
   ],
   "source": [
    "sports = [\"badminton\",\"soccer\",\"table tennis\"]  #define a list with sports\n",
    "print(\"I like to play {}. \\nI like to play {}. \\nI like to play {}\".format(sports[0], sports[1], sports[2]))    #printing three statements with the sports, where each statement is in a new line\n"
   ]
  },
  {
   "cell_type": "code",
   "execution_count": 19,
   "metadata": {},
   "outputs": [
    {
     "name": "stdout",
     "output_type": "stream",
     "text": [
      "J A S K\n"
     ]
    }
   ],
   "source": [
    "names=['John', 'Abraham', 'Sam', 'Kelly']\n",
    "print(names[0][0], names[1][0], names[2][0], names[3][0])"
   ]
  },
  {
   "cell_type": "markdown",
   "metadata": {},
   "source": [
    "For loops"
   ]
  },
  {
   "cell_type": "code",
   "execution_count": 20,
   "metadata": {},
   "outputs": [
    {
     "name": "stdout",
     "output_type": "stream",
     "text": [
      "Value:0\n",
      "Value:1\n",
      "Value:2\n",
      "Value:3\n",
      "Value:4\n"
     ]
    }
   ],
   "source": [
    "#writing your first for loop using range\n",
    "for num in range(5):\n",
    "    print( 'Value:{}'.format(num))"
   ]
  },
  {
   "cell_type": "code",
   "execution_count": 22,
   "metadata": {},
   "outputs": [
    {
     "name": "stdout",
     "output_type": "stream",
     "text": [
      "Value:2\n",
      "Value:4\n",
      "Value:6\n",
      "Value:8\n"
     ]
    }
   ],
   "source": [
    "#providing the start, stop, and step for the range function\n",
    "for num in range(2,10,2):\n",
    "    print(\"Value:{}\".format(num))   #will print all evens between 2 and 10"
   ]
  },
  {
   "cell_type": "code",
   "execution_count": 23,
   "metadata": {},
   "outputs": [
    {
     "name": "stdout",
     "output_type": "stream",
     "text": [
      "Value:J\n",
      "Value:o\n",
      "Value:h\n",
      "Value:n\n",
      "Value: \n",
      "Value:S\n",
      "Value:m\n",
      "Value:i\n",
      "Value:t\n",
      "Value:h\n"
     ]
    }
   ],
   "source": [
    "#printing all characters in a name using the 'in' keyword\\\n",
    "name = 'John Smith'\n",
    "for letter in name:\n",
    "    print(\"Value:{}\".format(letter))"
   ]
  },
  {
   "cell_type": "code",
   "execution_count": 24,
   "metadata": {},
   "outputs": [
    {
     "name": "stdout",
     "output_type": "stream",
     "text": [
      "0\n",
      "1\n",
      "2\n",
      "4\n"
     ]
    }
   ],
   "source": [
    "#using the continue statement within a for loop\n",
    "for num in range(5):\n",
    "    if num==3:\n",
    "        continue\n",
    "    print(num)"
   ]
  },
  {
   "cell_type": "code",
   "execution_count": 25,
   "metadata": {},
   "outputs": [
    {
     "name": "stdout",
     "output_type": "stream",
     "text": [
      "0\n",
      "1\n",
      "2\n"
     ]
    }
   ],
   "source": [
    "#breaking out of a loop using the 'break' keyword\n",
    "for num in range(5):\n",
    "    if num==3:\n",
    "        break\n",
    "    print(num)"
   ]
  },
  {
   "cell_type": "code",
   "execution_count": 26,
   "metadata": {},
   "outputs": [],
   "source": [
    "#setting a placeholder using the 'pass' keyword\n",
    "for i in range(5):\n",
    "    #TODO: add code to a print number\n",
    "    pass"
   ]
  },
  {
   "cell_type": "code",
   "execution_count": 27,
   "metadata": {},
   "outputs": [
    {
     "name": "stdout",
     "output_type": "stream",
     "text": [
      "3\n",
      "6\n",
      "9\n",
      "12\n",
      "15\n",
      "18\n",
      "21\n",
      "24\n",
      "27\n",
      "30\n",
      "33\n",
      "36\n",
      "39\n",
      "42\n",
      "45\n",
      "48\n",
      "51\n",
      "54\n",
      "57\n",
      "60\n",
      "63\n",
      "66\n",
      "69\n",
      "72\n",
      "75\n",
      "78\n",
      "81\n",
      "84\n",
      "87\n",
      "90\n",
      "93\n",
      "96\n",
      "99\n"
     ]
    }
   ],
   "source": [
    "#exercise\n",
    "for num in range(3,100,3):\n",
    "    print(num)"
   ]
  },
  {
   "cell_type": "code",
   "execution_count": 35,
   "metadata": {},
   "outputs": [
    {
     "name": "stdout",
     "output_type": "stream",
     "text": [
      "i\n",
      "i\n",
      "o\n",
      "a\n"
     ]
    }
   ],
   "source": [
    "word=input(\"Please enter a word in English:\")\n",
    "vowels=\"aeiou\"\n",
    "for letter in word:\n",
    "    if letter in vowels:\n",
    "        print(letter)"
   ]
  },
  {
   "cell_type": "code",
   "execution_count": null,
   "metadata": {},
   "outputs": [],
   "source": [
    "While loops"
   ]
  },
  {
   "cell_type": "code",
   "execution_count": 38,
   "metadata": {},
   "outputs": [
    {
     "name": "stdout",
     "output_type": "stream",
     "text": [
      "10\n",
      "9\n",
      "8\n",
      "7\n",
      "6\n",
      "5\n",
      "4\n",
      "3\n",
      "2\n",
      "1\n"
     ]
    }
   ],
   "source": [
    "#writing your first while loop\n",
    "health=10\n",
    "while health>0:\n",
    "    print(health)\n",
    "    health-=1        #forgetting this line will result in infinite loop"
   ]
  },
  {
   "cell_type": "code",
   "execution_count": 42,
   "metadata": {},
   "outputs": [
    {
     "name": "stdout",
     "output_type": "stream",
     "text": [
      "0 0\n",
      "0 1\n",
      "0 2\n",
      "1 0\n",
      "1 1\n",
      "1 2\n"
     ]
    }
   ],
   "source": [
    "#using two or more loops together is called a nested loop\n",
    "for i in range(2): #outside loop\n",
    "    for j in range(3):  #inside loop\n",
    "        print(i,j)"
   ]
  },
  {
   "cell_type": "code",
   "execution_count": null,
   "metadata": {},
   "outputs": [
    {
     "name": "stdout",
     "output_type": "stream",
     "text": [
      "You typed: haha\n",
      "You typed: no\n"
     ]
    },
    {
     "ename": "",
     "evalue": "",
     "output_type": "error",
     "traceback": [
      "\u001b[1;31mThe Kernel crashed while executing code in the current cell or a previous cell. \n",
      "\u001b[1;31mPlease review the code in the cell(s) to identify a possible cause of the failure. \n",
      "\u001b[1;31mClick <a href='https://aka.ms/vscodeJupyterKernelCrash'>here</a> for more info. \n",
      "\u001b[1;31mView Jupyter <a href='command:jupyter.viewOutput'>log</a> for further details."
     ]
    }
   ],
   "source": [
    "#exercise\n",
    "ans=input(\"Please type in a word:\")\n",
    "while ans.lower() != \"quit\":\n",
    "    print(\"You typed: {}\".format(ans))\n",
    "    ans=input(\"Type something ('or quit to exit):\")\n",
    "\n",
    "\n",
    "    \n"
   ]
  },
  {
   "cell_type": "code",
   "execution_count": null,
   "metadata": {},
   "outputs": [],
   "source": [
    "game_over=False\n",
    "while game_over"
   ]
  }
 ],
 "metadata": {
  "kernelspec": {
   "display_name": "bootcamp",
   "language": "python",
   "name": "python3"
  },
  "language_info": {
   "codemirror_mode": {
    "name": "ipython",
    "version": 3
   },
   "file_extension": ".py",
   "mimetype": "text/x-python",
   "name": "python",
   "nbconvert_exporter": "python",
   "pygments_lexer": "ipython3",
   "version": "3.12.9"
  }
 },
 "nbformat": 4,
 "nbformat_minor": 2
}
