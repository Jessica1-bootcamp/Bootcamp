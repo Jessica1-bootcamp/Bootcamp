{
 "cells": [
  {
   "cell_type": "code",
   "execution_count": 15,
   "id": "61dc195d",
   "metadata": {},
   "outputs": [
    {
     "name": "stdout",
     "output_type": "stream",
     "text": [
      "Data loaded successfully.\n",
      "Type of data: <class 'numpy.ndarray'>\n",
      "Keys in data (if dict): N/A\n",
      "[[-2.03126352e-02  6.34804845e-01  4.91202399e-02 ... -1.63854170e+00\n",
      "  -2.69352078e+00  5.61744943e-02]\n",
      " [-5.63507667e-03  1.07312016e-01  5.82012534e-03 ... -2.83108950e-01\n",
      "   7.78612792e-01 -3.97261232e-03]\n",
      " [-1.72514096e-02  1.90454483e+00 -4.35419641e-02 ...  7.08500147e-01\n",
      "   1.37315464e+00  6.57598749e-02]\n",
      " ...\n",
      " [ 4.80402261e-03  1.96924055e+00  4.56955656e-02 ...  6.52178168e-01\n",
      "   1.69901335e+00  1.19481362e-01]\n",
      " [ 2.46408163e-03 -5.10572612e-01 -5.36172464e-03 ...  3.39178324e-01\n",
      "  -1.96947694e-01  2.86529511e-02]\n",
      " [-2.23045629e-02 -9.77793038e-01 -7.05256686e-03 ...  5.35139501e-01\n",
      "   3.76032889e-02 -8.27234238e-03]]\n",
      "Shape of data array: (204000, 8)\n",
      "Dimensionality of data array: 2\n"
     ]
    }
   ],
   "source": [
    "#import libraries\n",
    "import pickle as pkl\n",
    "import matplotlib as plt\n",
    "import numpy as np\n",
    "import umap\n",
    "import sklearn as skl\n",
    "\n",
    "#write some code to read a pkl file and print and assess its contents, and print the data to check if the data is in the correct format\n",
    "def read_pkl(file_path):\n",
    "    try:\n",
    "        with open(file_path, 'rb') as file:\n",
    "            data = pkl.load(file)\n",
    "            print(\"Data loaded successfully.\")\n",
    "            print(\"Type of data:\", type(data))\n",
    "            print(\"Keys in data (if dict):\", data.keys() if isinstance(data, dict) else \"N/A\")\n",
    "            return data\n",
    "    except Exception as e:\n",
    "        print(f\"Error loading file: {e}\")\n",
    "        return None\n",
    "\n",
    "data= read_pkl('z.pkl')\n",
    "print(data)\n",
    "\n",
    "# Define convert_to_numpy function\n",
    "def convert_to_numpy(data):\n",
    "    if isinstance(data, np.ndarray):\n",
    "        return data\n",
    "    else:\n",
    "        return np.array(data)\n",
    "\n",
    "# Define check_dimensionality function\n",
    "def check_dimensionality(array):\n",
    "    return array.ndim\n",
    "\n",
    "#convert the data to a numpy array and check its dimensionality\n",
    "data_array = convert_to_numpy(data)\n",
    "print(\"Shape of data array:\", data_array.shape)\n",
    "print(\"Dimensionality of data array:\", check_dimensionality(data_array))"
   ]
  },
  {
   "cell_type": "code",
   "execution_count": 24,
   "id": "54a2e745",
   "metadata": {},
   "outputs": [
    {
     "name": "stdout",
     "output_type": "stream",
     "text": [
      "Subset of data (first 10 samples):\n",
      "[[-2.03126352e-02  6.34804845e-01  4.91202399e-02 -2.88585178e-03\n",
      "  -7.52725974e-02 -1.63854170e+00 -2.69352078e+00  5.61744943e-02]\n",
      " [-5.63507667e-03  1.07312016e-01  5.82012534e-03  1.76328281e-03\n",
      "   1.19400155e-02 -2.83108950e-01  7.78612792e-01 -3.97261232e-03]\n",
      " [-1.72514096e-02  1.90454483e+00 -4.35419641e-02 -5.56291230e-02\n",
      "  -4.23848331e-02  7.08500147e-01  1.37315464e+00  6.57598749e-02]\n",
      " [ 2.75274385e-02  1.83976769e-01  1.18060103e-02  5.72993699e-03\n",
      "  -1.29901636e-02 -7.03547418e-01  3.21502209e-01 -1.62674114e-05]\n",
      " [ 5.88624366e-02  2.83163041e-02  3.92393433e-02  1.75739788e-02\n",
      "  -2.87650842e-02 -1.41330492e+00 -2.58635491e-01  1.85830630e-02]\n",
      " [ 4.32322323e-02  8.53047073e-01  4.28178832e-02  2.18655951e-02\n",
      "  -4.31404933e-02 -1.42006040e+00  3.10731530e-01  3.31189334e-02]\n",
      " [ 1.76538620e-02  1.00560880e+00  2.88353935e-02  3.69645841e-02\n",
      "  -4.95177582e-02 -1.10702848e+00  8.70715305e-02  5.02568632e-02]\n",
      " [-2.11869385e-02  1.01073429e-01  3.74222361e-03  3.41215078e-03\n",
      "  -5.52455634e-02 -4.01249588e-01 -2.65911311e-01  2.10448392e-02]\n",
      " [ 2.78879199e-02  2.29633474e+00  5.80903776e-02  3.15139778e-02\n",
      "   7.46465288e-03 -2.12843561e+00  4.19065326e-01  4.70006000e-03]\n",
      " [ 2.84581212e-03  9.27294016e-01  4.59850803e-02 -1.25065325e-02\n",
      "  -7.74872154e-02 -8.17304730e-01 -9.92684722e-01  4.53225933e-02]]\n"
     ]
    }
   ],
   "source": [
    "#create a subset of the data and print the first 10 samples\n",
    "def create_subset(data, num_samples=10):\n",
    "    if isinstance(data, np.ndarray):\n",
    "        return data[:num_samples]\n",
    "    else:\n",
    "        return np.array(data)[:num_samples]\n",
    "subset_data = create_subset(data_array, 10)\n",
    "print(\"Subset of data (first 10 samples):\")\n",
    "print(subset_data)"
   ]
  },
  {
   "cell_type": "code",
   "execution_count": 26,
   "id": "c22195a1",
   "metadata": {},
   "outputs": [
    {
     "data": {
      "image/png": "[encoded data removed]",
      "text/plain": [
       "<Figure size 800x600 with 1 Axes>"
      ]
     },
     "metadata": {},
     "output_type": "display_data"
    }
   ],
   "source": [
    "#perform a principal component analysis (PCA) on the subset data and plot the results in 2D\n",
    "def perform_pca(data, n_components=2):\n",
    "    from sklearn.decomposition import PCA\n",
    "    pca = PCA(n_components=n_components)\n",
    "    transformed_data = pca.fit_transform(data)\n",
    "    return transformed_data\n",
    "def plot_pca(transformed_data):\n",
    "    import matplotlib.pyplot as plt\n",
    "    plt.figure(figsize=(8, 6))\n",
    "    plt.scatter(transformed_data[:, 0], transformed_data[:, 1], alpha=0.5)\n",
    "    plt.title('PCA of Data')\n",
    "    plt.xlabel('Principal Component 1')\n",
    "    plt.ylabel('Principal Component 2')\n",
    "    plt.grid()\n",
    "    plt.show()\n",
    "transformed_data = perform_pca(subset_data)\n",
    "plot_pca(transformed_data)"
   ]
  }
 ],
 "metadata": {
  "kernelspec": {
   "display_name": "bootcamp",
   "language": "python",
   "name": "python3"
  },
  "language_info": {
   "codemirror_mode": {
    "name": "ipython",
    "version": 3
   },
   "file_extension": ".py",
   "mimetype": "text/x-python",
   "name": "python",
   "nbconvert_exporter": "python",
   "pygments_lexer": "ipython3",
   "version": "3.12.9"
  }
 },
 "nbformat": 4,
 "nbformat_minor": 5
}
