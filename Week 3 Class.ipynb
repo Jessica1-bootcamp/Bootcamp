{
 "cells": [
  {
   "cell_type": "code",
   "execution_count": null,
   "metadata": {},
   "outputs": [],
   "source": []
  },
  {
   "cell_type": "code",
   "execution_count": 14,
   "metadata": {},
   "outputs": [
    {
     "name": "stdout",
     "output_type": "stream",
     "text": [
      "22\n",
      "Your new age is 22+5=27!\n"
     ]
    }
   ],
   "source": [
    "#challenge 4\n",
    "#try:\n",
    "ans=int(input(\"What is your age?\"))  #user input age & onvert to numbers\n",
    "print(ans)  #print age\n",
    "ans2=ans+5             #calculation\n",
    "print(\"Your new age is {}+5={}!\".format(ans,ans2))\n",
    "#except:\n",
    "   #print(\"Please put a number in!\")\n"
   ]
  }
 ],
 "metadata": {
  "kernelspec": {
   "display_name": "bootcamp",
   "language": "python",
   "name": "python3"
  },
  "language_info": {
   "codemirror_mode": {
    "name": "ipython",
    "version": 3
   },
   "file_extension": ".py",
   "mimetype": "text/x-python",
   "name": "python",
   "nbconvert_exporter": "python",
   "pygments_lexer": "ipython3",
   "version": "3.12.9"
  }
 },
 "nbformat": 4,
 "nbformat_minor": 2
}
