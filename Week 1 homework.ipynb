{
 "cells": [
  {
   "cell_type": "code",
   "execution_count": 1,
   "metadata": {},
   "outputs": [
    {
     "name": "stdout",
     "output_type": "stream",
     "text": [
      "Hello World\n"
     ]
    }
   ],
   "source": [
    "print(\"Hello World\")"
   ]
  },
  {
   "cell_type": "code",
   "execution_count": 2,
   "metadata": {},
   "outputs": [
    {
     "name": "stdout",
     "output_type": "stream",
     "text": [
      "5\n"
     ]
    }
   ],
   "source": [
    "#This is a variable and how to print a variable\n",
    "x=5\n",
    "print(x)"
   ]
  },
  {
   "cell_type": "code",
   "execution_count": 3,
   "metadata": {},
   "outputs": [
    {
     "name": "stdout",
     "output_type": "stream",
     "text": [
      "hello\n"
     ]
    }
   ],
   "source": [
    "\"\"\"\"\n",
    "This is a multiline comment\n",
    "\"\"\"\n",
    "print(\"hello\")"
   ]
  },
  {
   "cell_type": "code",
   "execution_count": 4,
   "metadata": {},
   "outputs": [
    {
     "name": "stdout",
     "output_type": "stream",
     "text": [
      "2\n",
      "10\n"
     ]
    }
   ],
   "source": [
    "#the following are all integers\n",
    "print(2)\n",
    "print(10)"
   ]
  },
  {
   "cell_type": "code",
   "execution_count": 5,
   "metadata": {},
   "outputs": [
    {
     "name": "stdout",
     "output_type": "stream",
     "text": [
      "10.888\n",
      "8.0\n"
     ]
    }
   ],
   "source": [
    "#the following are all floats\n",
    "print(10.888)\n",
    "print(8.0)"
   ]
  },
  {
   "cell_type": "code",
   "execution_count": 6,
   "metadata": {},
   "outputs": [
    {
     "name": "stdout",
     "output_type": "stream",
     "text": [
      "True\n",
      "False\n"
     ]
    }
   ],
   "source": [
    "#the following are booleans\n",
    "print(True)\n",
    "print(False)"
   ]
  },
  {
   "cell_type": "code",
   "execution_count": 7,
   "metadata": {},
   "outputs": [
    {
     "name": "stdout",
     "output_type": "stream",
     "text": [
      "\n",
      "There's a snake in my boot!\n",
      "True\n"
     ]
    }
   ],
   "source": [
    "#the following are strings\n",
    "print(\"\")\n",
    "print(\"There's a snake in my boot!\")\n",
    "print('True')"
   ]
  },
  {
   "cell_type": "code",
   "execution_count": 8,
   "metadata": {},
   "outputs": [
    {
     "name": "stdout",
     "output_type": "stream",
     "text": [
      "jessica\n"
     ]
    }
   ],
   "source": [
    "#exercise from the textbook\n",
    "print(\"jessica\")"
   ]
  },
  {
   "cell_type": "code",
   "execution_count": 10,
   "metadata": {},
   "outputs": [
    {
     "data": {
      "text/plain": [
       "float"
      ]
     },
     "execution_count": 10,
     "metadata": {},
     "output_type": "execute_result"
    }
   ],
   "source": [
    "#check the type\n",
    "type(2)\n",
    "type(0.88)"
   ]
  },
  {
   "cell_type": "markdown",
   "metadata": {},
   "source": [
    "Variables"
   ]
  },
  {
   "cell_type": "code",
   "execution_count": 11,
   "metadata": {},
   "outputs": [
    {
     "name": "stdout",
     "output_type": "stream",
     "text": [
      "baseball\n"
     ]
    }
   ],
   "source": [
    "sport = \"baseball\"\n",
    "print(sport)"
   ]
  },
  {
   "cell_type": "code",
   "execution_count": 12,
   "metadata": {},
   "outputs": [
    {
     "name": "stdout",
     "output_type": "stream",
     "text": [
      "5 8.4\n"
     ]
    }
   ],
   "source": [
    "num1=5 #storing an integer into a variable\n",
    "num2=8.4 #storing a float into a variable\n",
    "print(num1,num2) #you can print multiple items using comas"
   ]
  },
  {
   "cell_type": "code",
   "execution_count": 13,
   "metadata": {},
   "outputs": [
    {
     "name": "stdout",
     "output_type": "stream",
     "text": [
      "True\n"
     ]
    }
   ],
   "source": [
    "#storing a boolean into a variable\n",
    "switch=True\n",
    "print(switch)"
   ]
  },
  {
   "cell_type": "code",
   "execution_count": 14,
   "metadata": {},
   "outputs": [
    {
     "name": "stdout",
     "output_type": "stream",
     "text": [
      "John Smith 9\n"
     ]
    }
   ],
   "source": [
    "#storing strings into a variable\n",
    "name='John Smith'\n",
    "fav_number=\"9\"\n",
    "print(name,fav_number)"
   ]
  },
  {
   "cell_type": "code",
   "execution_count": 15,
   "metadata": {},
   "outputs": [
    {
     "name": "stdout",
     "output_type": "stream",
     "text": [
      "13.4\n"
     ]
    }
   ],
   "source": [
    "#using two variables to create another variable\n",
    "result=num1+num2\n",
    "print(result)"
   ]
  },
  {
   "cell_type": "code",
   "execution_count": 16,
   "metadata": {},
   "outputs": [
    {
     "name": "stdout",
     "output_type": "stream",
     "text": [
      "14.4\n",
      "72.0\n"
     ]
    }
   ],
   "source": [
    "#adding, deleting, multiplying. dividing from a variable\n",
    "result+=1 #same as saying result=result+1\n",
    "print(result)\n",
    "result*=num1 #same as saying result=result*num1\n",
    "print(result)"
   ]
  },
  {
   "cell_type": "code",
   "execution_count": 17,
   "metadata": {},
   "outputs": [
    {
     "name": "stdout",
     "output_type": "stream",
     "text": [
      "John\n",
      "Sam\n"
     ]
    }
   ],
   "source": [
    "#defining a variable and overwriting its value\n",
    "name='John'\n",
    "print(name)\n",
    "name=\"Sam\"\n",
    "print(name)"
   ]
  },
  {
   "cell_type": "code",
   "execution_count": 20,
   "metadata": {},
   "outputs": [
    {
     "name": "stdout",
     "output_type": "stream",
     "text": [
      "John Smith1\n"
     ]
    }
   ],
   "source": [
    "#adding the space before and after = does not change the action, just makes it easier to read the code\n",
    "name=\"John Smith\"\n",
    "name = \"John Smith1\"\n",
    "print(name)"
   ]
  },
  {
   "cell_type": "code",
   "execution_count": 23,
   "metadata": {},
   "outputs": [
    {
     "name": "stdout",
     "output_type": "stream",
     "text": [
      "3 + 10 = 13\n"
     ]
    }
   ],
   "source": [
    "#Tuesday exercise\n",
    "x = 3\n",
    "y = 10\n",
    "result = x*y\n",
    "print(x,\"+\",y,\"=\",x+y)"
   ]
  },
  {
   "cell_type": "code",
   "execution_count": 24,
   "metadata": {},
   "outputs": [
    {
     "name": "stdout",
     "output_type": "stream",
     "text": [
      "3354.0764\n"
     ]
    }
   ],
   "source": [
    "print(245.54*13.66)"
   ]
  },
  {
   "cell_type": "markdown",
   "metadata": {},
   "source": [
    "WORKING WITH STRINGS"
   ]
  },
  {
   "cell_type": "code",
   "execution_count": 25,
   "metadata": {},
   "outputs": [
    {
     "name": "stdout",
     "output_type": "stream",
     "text": [
      "John Smith\n"
     ]
    }
   ],
   "source": [
    "#using the addition operator without variables\n",
    "name = \"John\" + \" \" + \"Smith\"\n",
    "print(name)"
   ]
  },
  {
   "cell_type": "code",
   "execution_count": 26,
   "metadata": {},
   "outputs": [
    {
     "name": "stdout",
     "output_type": "stream",
     "text": [
      "John Smith\n"
     ]
    }
   ],
   "source": [
    "#using the addition operator with variables\n",
    "first_name=\"John\"\n",
    "last_name=\"Smith\"\n",
    "full_name=first_name+\" \"+last_name\n",
    "print(full_name)"
   ]
  },
  {
   "cell_type": "code",
   "execution_count": 30,
   "metadata": {},
   "outputs": [
    {
     "name": "stdout",
     "output_type": "stream",
     "text": [
      "Hello John\n",
      "Hello John, you are 28 years old!\n"
     ]
    }
   ],
   "source": [
    "#injecting variables using the format method\n",
    "name = \"John\"\n",
    "print( \"Hello {}\".format(name))\n",
    "print(\"Hello {}, you are {} years old!\".format(name, 28))"
   ]
  },
  {
   "cell_type": "code",
   "execution_count": 31,
   "metadata": {},
   "outputs": [
    {
     "name": "stdout",
     "output_type": "stream",
     "text": [
      "Hello John\n"
     ]
    }
   ],
   "source": [
    "#using the new f strings\n",
    "name = \"John\"\n",
    "print(f\"Hello {name}\")"
   ]
  },
  {
   "cell_type": "code",
   "execution_count": 42,
   "metadata": {},
   "outputs": [
    {
     "name": "stdout",
     "output_type": "stream",
     "text": [
      "chenqie yao gao fa xiguifei sitong\n"
     ]
    }
   ],
   "source": [
    "#practice\n",
    "name_1=\"chenqie\"\n",
    "name_2=\"xiguifei\"\n",
    "action=\"sitong\"\n",
    "print(\"{} yao gao fa {} {}\".format(name_1,name_2,action))"
   ]
  },
  {
   "cell_type": "code",
   "execution_count": 43,
   "metadata": {},
   "outputs": [
    {
     "name": "stdout",
     "output_type": "stream",
     "text": [
      "Hello, John\n"
     ]
    }
   ],
   "source": [
    "#one major difference between versions 2&3\n",
    "name = 'John'\n",
    "print('Hello, %s' % name)"
   ]
  },
  {
   "cell_type": "code",
   "execution_count": 44,
   "metadata": {},
   "outputs": [
    {
     "name": "stdout",
     "output_type": "stream",
     "text": [
      "Hello, John Smith\n"
     ]
    }
   ],
   "source": [
    "#python 2 multiple variable formatting\n",
    "first_name=\"John\"\n",
    "last_name=\"Smith\"\n",
    "print(\"Hello, %s %s\" %(first_name,last_name))"
   ]
  },
  {
   "cell_type": "code",
   "execution_count": 45,
   "metadata": {},
   "outputs": [
    {
     "name": "stdout",
     "output_type": "stream",
     "text": [
      "H\n",
      "e\n",
      "o\n"
     ]
    }
   ],
   "source": [
    "#using indexes to print each element\n",
    "word=\"Hello\"\n",
    "print(word[0])  #will output \"H\"\n",
    "print(word[1])  #will output \"e\"\n",
    "print(word[-1]) #wilol output \"o\""
   ]
  },
  {
   "cell_type": "code",
   "execution_count": 46,
   "metadata": {},
   "outputs": [
    {
     "name": "stdout",
     "output_type": "stream",
     "text": [
      "He\n"
     ]
    }
   ],
   "source": [
    "print(word[0:2])    #will output 'He'"
   ]
  },
  {
   "cell_type": "code",
   "execution_count": 48,
   "metadata": {},
   "outputs": [
    {
     "name": "stdout",
     "output_type": "stream",
     "text": [
      "Hlo\n"
     ]
    }
   ],
   "source": [
    "print(word[0:5:2])  #will output \"Hlo\""
   ]
  },
  {
   "cell_type": "code",
   "execution_count": 52,
   "metadata": {},
   "outputs": [
    {
     "name": "stdout",
     "output_type": "stream",
     "text": [
      "23 4.500000 False John\n"
     ]
    }
   ],
   "source": [
    "#practice\n",
    "integer=23\n",
    "float=4.5\n",
    "boolean=False\n",
    "string=\"John\"\n",
    "print(\"%d %f %s %s\" %(integer, float, boolean, string))"
   ]
  },
  {
   "cell_type": "code",
   "execution_count": 53,
   "metadata": {},
   "outputs": [
    {
     "name": "stdout",
     "output_type": "stream",
     "text": [
      "Jess's favourite sports is swimming.\n"
     ]
    }
   ],
   "source": [
    "#practice\n",
    "name=\"Jess\"\n",
    "sports=\"swimming\"\n",
    "print(\"{}'s favourite sports is {}.\".format(name,sports))"
   ]
  },
  {
   "cell_type": "markdown",
   "metadata": {},
   "source": [
    "Manipulating strings"
   ]
  },
  {
   "cell_type": "code",
   "execution_count": 56,
   "metadata": {},
   "outputs": [
    {
     "name": "stdout",
     "output_type": "stream",
     "text": [
      "John Smith\n",
      "john smith\n",
      "JOHN SMITH\n"
     ]
    }
   ],
   "source": [
    "#using the title method to capitalise a string\n",
    "name=\"john smith\"\n",
    "print(name.title())\n",
    "print(name.lower())\n",
    "print(name.upper())"
   ]
  },
  {
   "cell_type": "code",
   "execution_count": null,
   "metadata": {},
   "outputs": [
    {
     "name": "stdout",
     "output_type": "stream",
     "text": [
      "Hello there.\n"
     ]
    }
   ],
   "source": [
    "#replacing an exclamation point with a period\n",
    "words=\"Hello there!\"\n",
    "print(words.replace(\"!\",\".\"))\n",
    "#For the replace to be stored properly afterward, we would have to re-declare our words variable: words = words.replace(‘!’, ‘.’)."
   ]
  },
  {
   "cell_type": "code",
   "execution_count": 59,
   "metadata": {},
   "outputs": [
    {
     "name": "stdout",
     "output_type": "stream",
     "text": [
      "5\n"
     ]
    }
   ],
   "source": [
    "#finding the starting index of our search term\n",
    "s=\"look over that way\"\n",
    "print(s.find(\"over\"))"
   ]
  },
  {
   "cell_type": "code",
   "execution_count": 62,
   "metadata": {},
   "outputs": [
    {
     "name": "stdout",
     "output_type": "stream",
     "text": [
      "1john\n",
      "1john   \n"
     ]
    }
   ],
   "source": [
    "#removing white space with strip\n",
    "name = \"   1john   \"\n",
    "print(name.strip())\n",
    "print(name.lstrip())\n"
   ]
  },
  {
   "cell_type": "code",
   "execution_count": 64,
   "metadata": {},
   "outputs": [
    {
     "name": "stdout",
     "output_type": "stream",
     "text": [
      "['These', 'words', 'are', 'separated', 'by', 'spaces']\n"
     ]
    }
   ],
   "source": [
    "#converting a string into a list of words\n",
    "s=\"These words are separated by spaces\"\n",
    "print(s.split())"
   ]
  },
  {
   "cell_type": "code",
   "execution_count": null,
   "metadata": {},
   "outputs": [
    {
     "name": "stdout",
     "output_type": "stream",
     "text": [
      "HEHE\n"
     ]
    }
   ],
   "source": [
    "#practice\n",
    "name=\"hehe\"\n",
    "print(name.upper())"
   ]
  },
  {
   "cell_type": "code",
   "execution_count": 89,
   "metadata": {},
   "outputs": [
    {
     "name": "stdout",
     "output_type": "stream",
     "text": [
      "John Smith\n",
      "John Smith$$\n",
      "banana\n"
     ]
    }
   ],
   "source": [
    "name=\"$$John Smith$$\"\n",
    "print(name.strip(\"$\"))\n",
    "print(name.lstrip(\"$\"))\n",
    "txt = \",,,,,rrttgg.....banana....rrr\"\n",
    "\n",
    "x = txt.strip(\",.grt\")\n",
    "\n",
    "print(x)\n"
   ]
  },
  {
   "cell_type": "code",
   "execution_count": 87,
   "metadata": {},
   "outputs": [
    {
     "name": "stdout",
     "output_type": "stream",
     "text": [
      "John Smith\n",
      "$$John Smith\n"
     ]
    }
   ],
   "source": [
    "print(name.strip(\"$$\"))\n",
    "print(name.lstrip(\"john\"))"
   ]
  },
  {
   "cell_type": "markdown",
   "metadata": {},
   "source": [
    "Friday Project: Printing principles"
   ]
  },
  {
   "cell_type": "code",
   "execution_count": 115,
   "metadata": {},
   "outputs": [
    {
     "name": "stdout",
     "output_type": "stream",
     "text": [
      "**************************************************\n",
      "\t\tCoding Template. Inc.\n",
      "\t\t283 Franklin St.\n",
      "\t\tBoston, MA\n",
      "==================================================\n",
      "\tProduct Name\tProduce Price\n",
      "\tBooks\t\t$49.95\n",
      "\tComputer\t$579.99\n",
      "\tMonitor\t\t$124.89\n",
      "==================================================\n",
      "\t\t\tTotal\n",
      "\t\t\t$754.83\n",
      "==================================================\n"
     ]
    }
   ],
   "source": [
    "#creating a product and price for three items\n",
    "p1_name, p1_price=\"Books\", 49.95\n",
    "p2_name, p2_price=\"Computer\", 579.99\n",
    "p3_name,p3_price=\"Monitor\", 124.89\n",
    "\n",
    "#create a company name and information\n",
    "company_name=\"coding template. inc.\"\n",
    "company_address=\"283 Franklin St.\"\n",
    "company_city=\"Boston, MA\"\n",
    " \n",
    " #declare ending message\n",
    "message = \"Thanks for shopping with us today!\"\n",
    "\n",
    "#creating a top border\n",
    "print(\"*\" * 50)\n",
    "\n",
    "#print company information first,using format\n",
    "print(\"\\t\\t{}\".format(company_name.title()))\n",
    "print(\"\\t\\t{}\".format(company_address))\n",
    "print(\"\\t\\t{}\".format(company_city))\n",
    "\n",
    "#print a line between sections\n",
    "print(\"=\"*50)\n",
    "\n",
    "#print out header for sections of items\n",
    "print(\"\\tProduct Name\\tProduce Price\")\n",
    "\n",
    "#create a print statement for each product\n",
    "print(\"\\t{}\\t\\t${}\".format(p1_name.title(),p1_price))\n",
    "print(\"\\t{}\\t${}\".format(p2_name.title(),p2_price))\n",
    "print(\"\\t{}\\t\\t${}\".format(p3_name.title(),p3_price))\n",
    "\n",
    "#print a line between sections\n",
    "print(\"=\"*50)\n",
    "\n",
    "# print out header for section of total\n",
    "print(\"\\t\\t\\tTotal\")\n",
    "\n",
    "# calculate total price and print out\n",
    "total = p1_price + p2_price + p3_price\n",
    "print(\"\\t\\t\\t${}\".format(total))\n",
    "\n",
    "#print a line between sections\n",
    "print(\"=\"*50)\n"
   ]
  }
 ],
 "metadata": {
  "kernelspec": {
   "display_name": "bootcamp",
   "language": "python",
   "name": "python3"
  },
  "language_info": {
   "codemirror_mode": {
    "name": "ipython",
    "version": 3
   },
   "file_extension": ".py",
   "mimetype": "text/x-python",
   "name": "python",
   "nbconvert_exporter": "python",
   "pygments_lexer": "ipython3",
   "version": "3.12.9"
  }
 },
 "nbformat": 4,
 "nbformat_minor": 2
}
